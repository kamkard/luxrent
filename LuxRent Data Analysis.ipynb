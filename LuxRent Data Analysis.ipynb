{
 "cells": [
  {
   "cell_type": "markdown",
   "metadata": {},
   "source": [
    "First step grabs json data into Python.  Need to split the json objects since python doesn't know how to use multiple json objects."
   ]
  },
  {
   "cell_type": "markdown",
   "metadata": {
    "collapsed": false
   },
   "source": [
    "import json\n",
    "import string\n",
    "import pandas as pd\n",
    "from pandas.io.json import json_normalize\n",
    "\n",
    "\n",
    "with open('C:/Users/TheDave/Documents/GitHub/Scrapy/luxrent/rent.json') as jsonfile:\n",
    "    updatedData = jsonfile.read().replace('][', ']<SPLIT>[')\n",
    "    splitData = updatedData.split('<SPLIT>')\n",
    "    \n",
    "    luxrent = [json.loads(bitData) for bitData in splitData]\n",
    "\n",
    "\n",
    "#luxrent = pd.DataFrame(luxrent)\n",
    "json_normalize(luxrent['Date'] )\n",
    "\n",
    "print(luxrent)"
   ]
  },
  {
   "cell_type": "markdown",
   "metadata": {
    "collapsed": true
   },
   "source": [
    "Grab Sqlite Database to Python.  Gives information on Table name, column names."
   ]
  },
  {
   "cell_type": "code",
   "execution_count": 7,
   "metadata": {
    "collapsed": false
   },
   "outputs": [
    {
     "name": "stdout",
     "output_type": "stream",
     "text": [
      "Table Name = Lux\n",
      "['id', 'Date', 'Company', 'Building', 'Floorplan', 'City', 'Localaddress', 'Floor', 'Roomnumber', 'Dateavailable', 'Price']\n"
     ]
    }
   ],
   "source": [
    "import sqlite3\n",
    "from sqlite3 import Error\n",
    "import pandas as pd\n",
    "from sqlalchemy import create_engine\n",
    "from IPython.display import display, HTML\n",
    "\n",
    "#Panda's method of usiing SQLalchemy to grab my SQLite data\n",
    "engine = create_engine('sqlite:///C:/Users/TheDave/Desktop/LuxData.sqlite')\n",
    "conn = sqlite3.connect('C:/Users/TheDave/Desktop/LuxData.sqlite')\n",
    "c = conn.cursor()\n",
    "\n",
    "#get Table name\n",
    "res = c.execute(\"SELECT name FROM sqlite_master WHERE type='table';\")\n",
    "for name in res:\n",
    "    print (\"Table Name = \"+ name[0])\n",
    "\n",
    "#get names of all the columns\n",
    "c.execute(\"select * from Lux\")\n",
    "col_names = [description[0] for description in c.description]\n",
    "print(col_names)\n",
    "\n",
    "c.close()\n",
    "conn.close()\n",
    "    "
   ]
  },
  {
   "cell_type": "markdown",
   "metadata": {},
   "source": [
    "c.execute(\"select distinct Building from Lux\")\n",
    "print(c.fetchall())"
   ]
  },
  {
   "cell_type": "markdown",
   "metadata": {},
   "source": [
    "print(c.fetchone())"
   ]
  },
  {
   "cell_type": "markdown",
   "metadata": {},
   "source": [
    "Goal:\n",
    "\n",
    "1) To find the vacancy rate per apartment building per day<br>\n",
    "2) How long rooms are available and how much money AMLI is losing.<br>\n",
    "\n",
    "Procedure: \n",
    "\n",
    "1) Filter information by Building<br>\n",
    "2) Get list of rooms for each apartment<br>\n",
    "3) Get Date Range they are each open for<br>\n",
    "4) Calculate how much money they lost<br>"
   ]
  },
  {
   "cell_type": "code",
   "execution_count": 2,
   "metadata": {
    "collapsed": false
   },
   "outputs": [
    {
     "data": {
      "text/plain": [
       "231"
      ]
     },
     "execution_count": 2,
     "metadata": {},
     "output_type": "execute_result"
    }
   ],
   "source": [
    "#This gives the total number of Rooms per apartment complex\n",
    "buildList = pd.read_sql_query(\"select distinct building from Lux\", engine)\n",
    "\n",
    "\n",
    "Total = {'TotalRooms':[375,231,220,318,290,279,360,154,175]}\n",
    "buildTotal = pd.DataFrame(Total)\n",
    "\n",
    "buildList = pd.concat([buildList,buildTotal],axis=1)\n",
    "d = 'on 2ND'\n",
    "buildList['TotalRooms'].loc[buildList['Building']== d].values[0]\n",
    "\n",
    "#print ('# of buildings = ',len(buildList.Building))"
   ]
  },
  {
   "cell_type": "code",
   "execution_count": 3,
   "metadata": {
    "collapsed": false
   },
   "outputs": [],
   "source": [
    "#All Dates I have saved\n",
    "DatesAvailable = pd.read_sql_query(\"select distinct Date from Lux \", engine)\n",
    "#DatesAvailable"
   ]
  },
  {
   "cell_type": "code",
   "execution_count": 4,
   "metadata": {
    "collapsed": false
   },
   "outputs": [],
   "source": [
    "openRoomsQuery = (\"select id, Date, Building, Floorplan, Roomnumber, Dateavailable, Price\" \n",
    "\" from Lux where Dateavailable like 'Now%' \")\n",
    "\n",
    "openRooms = pd.read_sql_query(openRoomsQuery, engine)\n",
    "openRooms = openRooms.sort_values(by=['Building','Roomnumber'])\n",
    "#openRooms\n"
   ]
  },
  {
   "cell_type": "code",
   "execution_count": 10,
   "metadata": {
    "collapsed": false
   },
   "outputs": [
    {
     "data": {
      "text/plain": [
       "'01-001'"
      ]
     },
     "execution_count": 10,
     "metadata": {},
     "output_type": "execute_result"
    }
   ],
   "source": [
    "uniqueRooms = pd.unique(openRooms.Roomnumber)\n",
    "for u in uniqueRooms:\n",
    "  break  \n",
    "uniqueRooms[0]"
   ]
  },
  {
   "cell_type": "code",
   "execution_count": 6,
   "metadata": {
    "collapsed": false
   },
   "outputs": [
    {
     "data": {
      "text/html": [
       "<div>\n",
       "<table border=\"1\" class=\"dataframe\">\n",
       "  <thead>\n",
       "    <tr style=\"text-align: right;\">\n",
       "      <th></th>\n",
       "      <th>Vacancy Rate</th>\n",
       "    </tr>\n",
       "    <tr>\n",
       "      <th>Building</th>\n",
       "      <th></th>\n",
       "    </tr>\n",
       "  </thead>\n",
       "  <tbody>\n",
       "    <tr>\n",
       "      <th>300</th>\n",
       "      <td>6.130310</td>\n",
       "    </tr>\n",
       "    <tr>\n",
       "      <th>5350</th>\n",
       "      <td>5.704600</td>\n",
       "    </tr>\n",
       "    <tr>\n",
       "      <th>Covered Bridge</th>\n",
       "      <td>6.226460</td>\n",
       "    </tr>\n",
       "    <tr>\n",
       "      <th>Downtown</th>\n",
       "      <td>1.879815</td>\n",
       "    </tr>\n",
       "    <tr>\n",
       "      <th>Eastside</th>\n",
       "      <td>6.054939</td>\n",
       "    </tr>\n",
       "    <tr>\n",
       "      <th>South Shore</th>\n",
       "      <td>4.264407</td>\n",
       "    </tr>\n",
       "    <tr>\n",
       "      <th>at Mueller</th>\n",
       "      <td>4.841747</td>\n",
       "    </tr>\n",
       "    <tr>\n",
       "      <th>on 2ND</th>\n",
       "      <td>2.964267</td>\n",
       "    </tr>\n",
       "    <tr>\n",
       "      <th>on Aldrich</th>\n",
       "      <td>8.445262</td>\n",
       "    </tr>\n",
       "  </tbody>\n",
       "</table>\n",
       "</div>"
      ],
      "text/plain": [
       "                Vacancy Rate\n",
       "Building                    \n",
       "300                 6.130310\n",
       "5350                5.704600\n",
       "Covered Bridge      6.226460\n",
       "Downtown            1.879815\n",
       "Eastside            6.054939\n",
       "South Shore         4.264407\n",
       "at Mueller          4.841747\n",
       "on 2ND              2.964267\n",
       "on Aldrich          8.445262"
      ]
     },
     "execution_count": 6,
     "metadata": {},
     "output_type": "execute_result"
    }
   ],
   "source": [
    "buildingRatio = pd.DataFrame(columns=['Date','Building','Vacancy Rate'])\n",
    "for d in DatesAvailable['Date']:\n",
    "    for b in buildList['Building']:\n",
    "        #print (b)\n",
    "        #print(openRooms.loc[(openRooms['Date']==d) & (openRooms['Building'] ==b)])\n",
    "        nRooms = len(openRooms.loc[(openRooms['Date']==d) & (openRooms['Building'] ==b)])\n",
    "        tRooms = buildList['TotalRooms'].loc[buildList['Building']== b].values[0]\n",
    "        #buildList.loc[buildList['Building']== b].TotalRooms[0]\n",
    "        fRooms = nRooms/tRooms *100\n",
    "        listRooms = [{'Date':d, 'Building':b, 'Vacancy Rate':fRooms}]\n",
    "        listRooms=pd.DataFrame(listRooms)\n",
    "        buildingRatio=pd.concat([buildingRatio,listRooms])\n",
    "    \n",
    "buildingRatio.groupby('Building').mean()\n"
   ]
  },
  {
   "cell_type": "markdown",
   "metadata": {
    "collapsed": true
   },
   "source": [
    "Vacancy rating is close to the average in 2018 at 4%.\n",
    "\n",
    "Use ML to predict next rooms.\n",
    "\n",
    "Input = Building, Floorplan, Address, Floor, Price\n",
    "Y = Classification if rented by next month (Y or N)\n",
    "Synth Data = How Long room open? Price changed?  (Need to check these data points)"
   ]
  },
  {
   "cell_type": "code",
   "execution_count": 20,
   "metadata": {
    "collapsed": false
   },
   "outputs": [
    {
     "data": {
      "text/html": [
       "<div>\n",
       "<table border=\"1\" class=\"dataframe\">\n",
       "  <thead>\n",
       "    <tr style=\"text-align: right;\">\n",
       "      <th></th>\n",
       "      <th>Date</th>\n",
       "      <th>Building</th>\n",
       "      <th>Floorplan</th>\n",
       "      <th>Localaddress</th>\n",
       "      <th>Floor</th>\n",
       "      <th>Roomnumber</th>\n",
       "      <th>Dateavailable</th>\n",
       "      <th>Price</th>\n",
       "    </tr>\n",
       "  </thead>\n",
       "  <tbody>\n",
       "    <tr>\n",
       "      <th>count</th>\n",
       "      <td>24461</td>\n",
       "      <td>24461</td>\n",
       "      <td>24461</td>\n",
       "      <td>24461</td>\n",
       "      <td>24461</td>\n",
       "      <td>24461</td>\n",
       "      <td>24461</td>\n",
       "      <td>23427</td>\n",
       "    </tr>\n",
       "    <tr>\n",
       "      <th>unique</th>\n",
       "      <td>118</td>\n",
       "      <td>9</td>\n",
       "      <td>111</td>\n",
       "      <td>9</td>\n",
       "      <td>19</td>\n",
       "      <td>579</td>\n",
       "      <td>317</td>\n",
       "      <td>1482</td>\n",
       "    </tr>\n",
       "    <tr>\n",
       "      <th>top</th>\n",
       "      <td>04/12/17</td>\n",
       "      <td>on Aldrich</td>\n",
       "      <td>A3a</td>\n",
       "      <td>2401 Aldrich St</td>\n",
       "      <td>2</td>\n",
       "      <td>01-229</td>\n",
       "      <td>Now</td>\n",
       "      <td>$1,880</td>\n",
       "    </tr>\n",
       "    <tr>\n",
       "      <th>freq</th>\n",
       "      <td>242</td>\n",
       "      <td>4902</td>\n",
       "      <td>815</td>\n",
       "      <td>4902</td>\n",
       "      <td>6435</td>\n",
       "      <td>236</td>\n",
       "      <td>3169</td>\n",
       "      <td>185</td>\n",
       "    </tr>\n",
       "  </tbody>\n",
       "</table>\n",
       "</div>"
      ],
      "text/plain": [
       "            Date    Building Floorplan     Localaddress  Floor Roomnumber  \\\n",
       "count      24461       24461     24461            24461  24461      24461   \n",
       "unique       118           9       111                9     19        579   \n",
       "top     04/12/17  on Aldrich       A3a  2401 Aldrich St      2     01-229   \n",
       "freq         242        4902       815             4902   6435        236   \n",
       "\n",
       "       Dateavailable   Price  \n",
       "count          24461   23427  \n",
       "unique           317    1482  \n",
       "top              Now  $1,880  \n",
       "freq            3169     185  "
      ]
     },
     "execution_count": 20,
     "metadata": {},
     "output_type": "execute_result"
    }
   ],
   "source": [
    "roomsPredQuery = (\"select Date, Building, Floorplan, Localaddress, Floor,\" \n",
    "                  \"Roomnumber, Dateavailable, Price from Lux\")\n",
    " \n",
    "roomsPred = pd.read_sql_query(roomsPredQuery, engine)\n",
    "roomsPred = roomsPred.sort_values(by=['Building','Roomnumber'])\n",
    "\n",
    "roomsPred.describe()"
   ]
  },
  {
   "cell_type": "code",
   "execution_count": null,
   "metadata": {
    "collapsed": true
   },
   "outputs": [],
   "source": []
  }
 ],
 "metadata": {
  "kernelspec": {
   "display_name": "Python 3",
   "language": "python",
   "name": "python3"
  },
  "language_info": {
   "codemirror_mode": {
    "name": "ipython",
    "version": 3
   },
   "file_extension": ".py",
   "mimetype": "text/x-python",
   "name": "python",
   "nbconvert_exporter": "python",
   "pygments_lexer": "ipython3",
   "version": "3.6.0"
  }
 },
 "nbformat": 4,
 "nbformat_minor": 2
}
